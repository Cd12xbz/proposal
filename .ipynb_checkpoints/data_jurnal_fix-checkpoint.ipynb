{
 "cells": [
  {
   "cell_type": "code",
   "execution_count": 1,
   "id": "e1baa310-cd42-4151-b220-da90fdf0b7da",
   "metadata": {},
   "outputs": [],
   "source": [
    "#import All Lib\n",
    "import pandas as pd\n",
    "import numpy as np\n",
    "import seaborn as sns\n",
    "import matplotlib.pyplot as plt\n",
    "\n",
    "#Import All Module Needs\n",
    "from sklearn.preprocessing import LabelEncoder,StandardScaler         # Digunakan untuk Data Transformation\n",
    "from sklearn.ensemble import RandomForestClassifier                   # Standart Algoritma Random Forest\n",
    "\n",
    "from sklearn.metrics import accuracy_score, classification_report     # Impor Function akurasi dan classification reportnya\n",
    "from sklearn.model_selection import train_test_split, cross_val_score # Function Caross Validation dan Split Data\n",
    "\n",
    "from imblearn.combine import SMOTETomek                               # Balancing Data Metod Hybird"
   ]
  },
  {
   "cell_type": "code",
   "execution_count": 2,
   "id": "d138780a-2ef4-47d6-af73-1b89fe6005f8",
   "metadata": {},
   "outputs": [
    {
     "data": {
      "text/html": [
       "<div>\n",
       "<style scoped>\n",
       "    .dataframe tbody tr th:only-of-type {\n",
       "        vertical-align: middle;\n",
       "    }\n",
       "\n",
       "    .dataframe tbody tr th {\n",
       "        vertical-align: top;\n",
       "    }\n",
       "\n",
       "    .dataframe thead th {\n",
       "        text-align: right;\n",
       "    }\n",
       "</style>\n",
       "<table border=\"1\" class=\"dataframe\">\n",
       "  <thead>\n",
       "    <tr style=\"text-align: right;\">\n",
       "      <th></th>\n",
       "      <th>id</th>\n",
       "      <th>gender</th>\n",
       "      <th>age</th>\n",
       "      <th>hypertension</th>\n",
       "      <th>heart_disease</th>\n",
       "      <th>ever_married</th>\n",
       "      <th>work_type</th>\n",
       "      <th>Residence_type</th>\n",
       "      <th>avg_glucose_level</th>\n",
       "      <th>bmi</th>\n",
       "      <th>smoking_status</th>\n",
       "      <th>stroke</th>\n",
       "    </tr>\n",
       "  </thead>\n",
       "  <tbody>\n",
       "    <tr>\n",
       "      <th>0</th>\n",
       "      <td>9046</td>\n",
       "      <td>Male</td>\n",
       "      <td>67.0</td>\n",
       "      <td>0</td>\n",
       "      <td>1</td>\n",
       "      <td>Yes</td>\n",
       "      <td>Private</td>\n",
       "      <td>Urban</td>\n",
       "      <td>228.69</td>\n",
       "      <td>36.6</td>\n",
       "      <td>formerly smoked</td>\n",
       "      <td>1</td>\n",
       "    </tr>\n",
       "    <tr>\n",
       "      <th>1</th>\n",
       "      <td>51676</td>\n",
       "      <td>Female</td>\n",
       "      <td>61.0</td>\n",
       "      <td>0</td>\n",
       "      <td>0</td>\n",
       "      <td>Yes</td>\n",
       "      <td>Self-employed</td>\n",
       "      <td>Rural</td>\n",
       "      <td>202.21</td>\n",
       "      <td>NaN</td>\n",
       "      <td>never smoked</td>\n",
       "      <td>1</td>\n",
       "    </tr>\n",
       "    <tr>\n",
       "      <th>2</th>\n",
       "      <td>31112</td>\n",
       "      <td>Male</td>\n",
       "      <td>80.0</td>\n",
       "      <td>0</td>\n",
       "      <td>1</td>\n",
       "      <td>Yes</td>\n",
       "      <td>Private</td>\n",
       "      <td>Rural</td>\n",
       "      <td>105.92</td>\n",
       "      <td>32.5</td>\n",
       "      <td>never smoked</td>\n",
       "      <td>1</td>\n",
       "    </tr>\n",
       "    <tr>\n",
       "      <th>3</th>\n",
       "      <td>60182</td>\n",
       "      <td>Female</td>\n",
       "      <td>49.0</td>\n",
       "      <td>0</td>\n",
       "      <td>0</td>\n",
       "      <td>Yes</td>\n",
       "      <td>Private</td>\n",
       "      <td>Urban</td>\n",
       "      <td>171.23</td>\n",
       "      <td>34.4</td>\n",
       "      <td>smokes</td>\n",
       "      <td>1</td>\n",
       "    </tr>\n",
       "    <tr>\n",
       "      <th>4</th>\n",
       "      <td>1665</td>\n",
       "      <td>Female</td>\n",
       "      <td>79.0</td>\n",
       "      <td>1</td>\n",
       "      <td>0</td>\n",
       "      <td>Yes</td>\n",
       "      <td>Self-employed</td>\n",
       "      <td>Rural</td>\n",
       "      <td>174.12</td>\n",
       "      <td>24.0</td>\n",
       "      <td>never smoked</td>\n",
       "      <td>1</td>\n",
       "    </tr>\n",
       "  </tbody>\n",
       "</table>\n",
       "</div>"
      ],
      "text/plain": [
       "      id  gender   age  hypertension  heart_disease ever_married  \\\n",
       "0   9046    Male  67.0             0              1          Yes   \n",
       "1  51676  Female  61.0             0              0          Yes   \n",
       "2  31112    Male  80.0             0              1          Yes   \n",
       "3  60182  Female  49.0             0              0          Yes   \n",
       "4   1665  Female  79.0             1              0          Yes   \n",
       "\n",
       "       work_type Residence_type  avg_glucose_level   bmi   smoking_status  \\\n",
       "0        Private          Urban             228.69  36.6  formerly smoked   \n",
       "1  Self-employed          Rural             202.21   NaN     never smoked   \n",
       "2        Private          Rural             105.92  32.5     never smoked   \n",
       "3        Private          Urban             171.23  34.4           smokes   \n",
       "4  Self-employed          Rural             174.12  24.0     never smoked   \n",
       "\n",
       "   stroke  \n",
       "0       1  \n",
       "1       1  \n",
       "2       1  \n",
       "3       1  \n",
       "4       1  "
      ]
     },
     "execution_count": 2,
     "metadata": {},
     "output_type": "execute_result"
    }
   ],
   "source": [
    "# Load data Stroke CSV\n",
    "file = ('dataset/healthcare-stroke.csv')\n",
    "data = pd.read_csv(file)\n",
    "data.head()"
   ]
  },
  {
   "cell_type": "code",
   "execution_count": 3,
   "id": "72f0595a-b63e-4454-80ff-5f69f03aebc4",
   "metadata": {},
   "outputs": [],
   "source": [
    "#Merubah Data kedalam bentuk Frame\n",
    "df = pd.DataFrame(data)"
   ]
  },
  {
   "cell_type": "code",
   "execution_count": 4,
   "id": "e65bf743-960e-40fd-8b84-dcfa239088ba",
   "metadata": {},
   "outputs": [
    {
     "data": {
      "text/plain": [
       "0"
      ]
     },
     "execution_count": 4,
     "metadata": {},
     "output_type": "execute_result"
    }
   ],
   "source": [
    "#Cek Duplikasi dan Cara handelnya\n",
    "df.duplicated().sum()"
   ]
  },
  {
   "cell_type": "code",
   "execution_count": 5,
   "id": "6440e459-3deb-4721-9c31-1b616d62cb7f",
   "metadata": {},
   "outputs": [
    {
     "data": {
      "text/plain": [
       "id                     0\n",
       "gender                 0\n",
       "age                    0\n",
       "hypertension           0\n",
       "heart_disease          0\n",
       "ever_married           0\n",
       "work_type              0\n",
       "Residence_type         0\n",
       "avg_glucose_level      0\n",
       "bmi                  201\n",
       "smoking_status         0\n",
       "stroke                 0\n",
       "dtype: int64"
      ]
     },
     "execution_count": 5,
     "metadata": {},
     "output_type": "execute_result"
    }
   ],
   "source": [
    "#Cek Mising Value dan Penanganannya\n",
    "df.isna().sum()"
   ]
  },
  {
   "cell_type": "code",
   "execution_count": 6,
   "id": "424a745e-cffa-45f2-b99d-98293c3fc855",
   "metadata": {},
   "outputs": [
    {
     "data": {
      "text/plain": [
       "id                   0\n",
       "gender               0\n",
       "age                  0\n",
       "hypertension         0\n",
       "heart_disease        0\n",
       "ever_married         0\n",
       "work_type            0\n",
       "Residence_type       0\n",
       "avg_glucose_level    0\n",
       "bmi                  0\n",
       "smoking_status       0\n",
       "stroke               0\n",
       "dtype: int64"
      ]
     },
     "execution_count": 6,
     "metadata": {},
     "output_type": "execute_result"
    }
   ],
   "source": [
    "#Tercatat Ada 201 mising value pada kolom BMI, Maka kita akan isi dengan Rata - rata\n",
    "avg = df['bmi'].mean()\n",
    "df['bmi'] = df['bmi'].fillna(avg)\n",
    "df.isna().sum()"
   ]
  },
  {
   "cell_type": "code",
   "execution_count": 7,
   "id": "6f925c97-7598-4ced-abda-38d8fc51c9e8",
   "metadata": {},
   "outputs": [
    {
     "data": {
      "text/plain": [
       "(5110, 11)"
      ]
     },
     "execution_count": 7,
     "metadata": {},
     "output_type": "execute_result"
    }
   ],
   "source": [
    "#Mising value sudah Selesai, Lanjut untuk menghapus kolom \"ID\"\n",
    "df = df.drop(['id'], axis=1)\n",
    "df.shape"
   ]
  },
  {
   "cell_type": "code",
   "execution_count": 8,
   "id": "7cafdb0d-6629-41e9-95e3-cd9ce70ec357",
   "metadata": {},
   "outputs": [
    {
     "name": "stderr",
     "output_type": "stream",
     "text": [
      "C:\\ProgramData\\anaconda3\\Lib\\site-packages\\seaborn\\_oldcore.py:1119: FutureWarning: use_inf_as_na option is deprecated and will be removed in a future version. Convert inf values to NaN before operating instead.\n",
      "  with pd.option_context('mode.use_inf_as_na', True):\n",
      "C:\\ProgramData\\anaconda3\\Lib\\site-packages\\seaborn\\_oldcore.py:1119: FutureWarning: use_inf_as_na option is deprecated and will be removed in a future version. Convert inf values to NaN before operating instead.\n",
      "  with pd.option_context('mode.use_inf_as_na', True):\n",
      "C:\\ProgramData\\anaconda3\\Lib\\site-packages\\seaborn\\_oldcore.py:1119: FutureWarning: use_inf_as_na option is deprecated and will be removed in a future version. Convert inf values to NaN before operating instead.\n",
      "  with pd.option_context('mode.use_inf_as_na', True):\n",
      "C:\\ProgramData\\anaconda3\\Lib\\site-packages\\seaborn\\_oldcore.py:1119: FutureWarning: use_inf_as_na option is deprecated and will be removed in a future version. Convert inf values to NaN before operating instead.\n",
      "  with pd.option_context('mode.use_inf_as_na', True):\n"
     ]
    },
    {
     "data": {
      "image/png": "[encoded data removed]",
      "text/plain": [
       "<Figure size 1500x800 with 4 Axes>"
      ]
     },
     "metadata": {},
     "output_type": "display_data"
    }
   ],
   "source": [
    "#Visuali Data sebelumm Imbalance\n",
    "fig, axes = plt.subplots(2,2,figsize=(15,8))\n",
    "\n",
    "sns.histplot(data = df, x='stroke', ax = axes[0,0], color = 'red') # Menampilkan Data Orang yang Terkene Stroke\n",
    "plt.show()"
   ]
  },
  {
   "cell_type": "code",
   "execution_count": 9,
   "id": "4d0c2864-f66e-4e2c-be98-26800836062b",
   "metadata": {},
   "outputs": [
    {
     "name": "stdout",
     "output_type": "stream",
     "text": [
      "   gender   age  hypertension  heart_disease  ever_married  work_type  \\\n",
      "0       1  67.0             0              1             1          2   \n",
      "1       0  61.0             0              0             1          3   \n",
      "2       1  80.0             0              1             1          2   \n",
      "3       0  49.0             0              0             1          2   \n",
      "4       0  79.0             1              0             1          3   \n",
      "\n",
      "   Residence_type  avg_glucose_level        bmi  smoking_status  stroke  \n",
      "0               1             228.69  36.600000               1       1  \n",
      "1               0             202.21  28.893237               2       1  \n",
      "2               0             105.92  32.500000               2       1  \n",
      "3               1             171.23  34.400000               3       1  \n",
      "4               0             174.12  24.000000               2       1  \n"
     ]
    }
   ],
   "source": [
    "#Transformasi Data dari nominal ke numerik\n",
    "encode = LabelEncoder()\n",
    "\n",
    "df['gender'] = encode.fit_transform(df['gender'].values)\n",
    "df['ever_married'] = encode.fit_transform(df['ever_married'].values)\n",
    "df['work_type'] = encode.fit_transform(df['work_type'].values)\n",
    "df['Residence_type'] = encode.fit_transform(df['Residence_type'].values)\n",
    "df['smoking_status'] = encode.fit_transform(df['smoking_status'].values)\n",
    "print(df.head())"
   ]
  },
  {
   "cell_type": "code",
   "execution_count": 10,
   "id": "2f76c4ee-b402-4cad-8e0d-ebc29168ad70",
   "metadata": {},
   "outputs": [],
   "source": [
    "#Identifikasi Variabel bebas dan Terikat\n",
    "X = df.drop(['stroke'], axis=1)\n",
    "y = df['stroke']\n",
    "\n",
    "#Split Data and Implementation of All Algorithms Before Imbalance and Before Cross Validaton\n",
    "X_train, X_test, y_train, y_test = train_test_split(X, y, test_size= 0.2,\n",
    "                                                    random_state=0,\n",
    "                                                    shuffle=True\n",
    "                                                   )"
   ]
  },
  {
   "cell_type": "code",
   "execution_count": 17,
   "id": "363b225e-6845-4b18-bb68-bf1f711943e4",
   "metadata": {},
   "outputs": [
    {
     "name": "stderr",
     "output_type": "stream",
     "text": [
      "C:\\ProgramData\\anaconda3\\Lib\\site-packages\\sklearn\\linear_model\\_logistic.py:458: ConvergenceWarning: lbfgs failed to converge (status=1):\n",
      "STOP: TOTAL NO. of ITERATIONS REACHED LIMIT.\n",
      "\n",
      "Increase the number of iterations (max_iter) or scale the data as shown in:\n",
      "    https://scikit-learn.org/stable/modules/preprocessing.html\n",
      "Please also refer to the documentation for alternative solver options:\n",
      "    https://scikit-learn.org/stable/modules/linear_model.html#logistic-regression\n",
      "  n_iter_i = _check_optimize_result(\n",
      "C:\\ProgramData\\anaconda3\\Lib\\site-packages\\sklearn\\linear_model\\_logistic.py:458: ConvergenceWarning: lbfgs failed to converge (status=1):\n",
      "STOP: TOTAL NO. of ITERATIONS REACHED LIMIT.\n",
      "\n",
      "Increase the number of iterations (max_iter) or scale the data as shown in:\n",
      "    https://scikit-learn.org/stable/modules/preprocessing.html\n",
      "Please also refer to the documentation for alternative solver options:\n",
      "    https://scikit-learn.org/stable/modules/linear_model.html#logistic-regression\n",
      "  n_iter_i = _check_optimize_result(\n",
      "C:\\ProgramData\\anaconda3\\Lib\\site-packages\\sklearn\\linear_model\\_logistic.py:458: ConvergenceWarning: lbfgs failed to converge (status=1):\n",
      "STOP: TOTAL NO. of ITERATIONS REACHED LIMIT.\n",
      "\n",
      "Increase the number of iterations (max_iter) or scale the data as shown in:\n",
      "    https://scikit-learn.org/stable/modules/preprocessing.html\n",
      "Please also refer to the documentation for alternative solver options:\n",
      "    https://scikit-learn.org/stable/modules/linear_model.html#logistic-regression\n",
      "  n_iter_i = _check_optimize_result(\n",
      "C:\\ProgramData\\anaconda3\\Lib\\site-packages\\sklearn\\linear_model\\_logistic.py:458: ConvergenceWarning: lbfgs failed to converge (status=1):\n",
      "STOP: TOTAL NO. of ITERATIONS REACHED LIMIT.\n",
      "\n",
      "Increase the number of iterations (max_iter) or scale the data as shown in:\n",
      "    https://scikit-learn.org/stable/modules/preprocessing.html\n",
      "Please also refer to the documentation for alternative solver options:\n",
      "    https://scikit-learn.org/stable/modules/linear_model.html#logistic-regression\n",
      "  n_iter_i = _check_optimize_result(\n",
      "C:\\ProgramData\\anaconda3\\Lib\\site-packages\\sklearn\\linear_model\\_logistic.py:458: ConvergenceWarning: lbfgs failed to converge (status=1):\n",
      "STOP: TOTAL NO. of ITERATIONS REACHED LIMIT.\n",
      "\n",
      "Increase the number of iterations (max_iter) or scale the data as shown in:\n",
      "    https://scikit-learn.org/stable/modules/preprocessing.html\n",
      "Please also refer to the documentation for alternative solver options:\n",
      "    https://scikit-learn.org/stable/modules/linear_model.html#logistic-regression\n",
      "  n_iter_i = _check_optimize_result(\n",
      "C:\\ProgramData\\anaconda3\\Lib\\site-packages\\sklearn\\linear_model\\_logistic.py:458: ConvergenceWarning: lbfgs failed to converge (status=1):\n",
      "STOP: TOTAL NO. of ITERATIONS REACHED LIMIT.\n",
      "\n",
      "Increase the number of iterations (max_iter) or scale the data as shown in:\n",
      "    https://scikit-learn.org/stable/modules/preprocessing.html\n",
      "Please also refer to the documentation for alternative solver options:\n",
      "    https://scikit-learn.org/stable/modules/linear_model.html#logistic-regression\n",
      "  n_iter_i = _check_optimize_result(\n"
     ]
    }
   ],
   "source": [
    "# Implementation KNN Classification Algorithms\n",
    "clf = KNeighborsClassifier(n_neighbors=5)\n",
    "y_knn = clf.fit(X_train, y_train).predict(X_test)  # Hasil Setelah di train dan di Test\n",
    "skor_knn =  cross_val_score(clf, X_train, y_train, cv =5)\n",
    "# Implementation Naive Bayes Classification Algorithms\n",
    "nb = GaussianNB()\n",
    "y_nb = nb.fit(X_train, y_train).predict(X_test)    # Hasil Setelah di train dan di Test\n",
    "skor_nb = cross_val_score(nb, X_train, y_train, cv =5)\n",
    "\n",
    "# Implementation Decission Tree Classification Algorithms\n",
    "dt = DecisionTreeClassifier()\n",
    "y_dt = dt.fit(X_train, y_train).predict(X_test)    # Hasil Setelah di train dan di Test\n",
    "skor_dt = cross_val_score(dt, X_train, y_train, cv =5)\n",
    "\n",
    "# Implementation SVM (Suppory Vector Machine) Classification Algorithms\n",
    "sm =  SVC()\n",
    "y_sm = sm.fit(X_train, y_train).predict(X_test)    # Hasil Setelah di train dan di Test\n",
    "skor_sm = cross_val_score(sm, X_train, y_train, cv =5)\n",
    "\n",
    "# Implementation Neural Network Classification Algorithms\n",
    "nn = MLPClassifier()\n",
    "y_nn = nn.fit(X_train, y_train).predict(X_test)    # Hasil Setelah di train dan di Test\n",
    "skor_nn = cross_val_score(nn, X_train, y_train, cv =5)\n",
    "\n",
    "# Implementation Logistic Regression Classification Algorithms\n",
    "lr = LogisticRegression()\n",
    "y_lr = lr.fit(X_train, y_train).predict(X_test)     # Hasil Setelah di train dan di Test\n",
    "skor_lr = cross_val_score(lr, X_train, y_train, cv =5)\n",
    "\n",
    "# Implementation Random Forest Classification Algorithms\n",
    "rf = RandomForestClassifier(random_state=0)\n",
    "y_rf = rf.fit(X_train,y_train).predict(X_test)     # Hasil Setelah di train dan di Test\n",
    "skor_rf = cross_val_score(rf, X_train, y_train, cv =5)"
   ]
  },
  {
   "cell_type": "code",
   "execution_count": 18,
   "id": "f50d861a-9b26-4669-aaba-6269dd0901f4",
   "metadata": {},
   "outputs": [
    {
     "name": "stdout",
     "output_type": "stream",
     "text": [
      "Hasil Akurasi dari Algoritma K-Nearset Neigbors   = 0.9422700587084148\n",
      "0.95 Akurasi dengan standart deviasi 0.00\n",
      "Hasil Akurasi dari Algoritma Naive Bayes          = 0.8825831702544031\n",
      "0.87 Akurasi dengan standart deviasi 0.01\n",
      "Hasil Akurasi dari Algoritma Decission Tree       = 0.9187866927592955\n",
      "0.91 Akurasi dengan standart deviasi 0.01\n",
      "Hasil Akurasi dari Algoritma SVM                  = 0.9471624266144814\n",
      "0.95 Akurasi dengan standart deviasi 0.00\n",
      "Hasil Akurasi dari Algoritma Neural Network       = 0.9461839530332681\n",
      "0.95 Akurasi dengan standart deviasi 0.00\n",
      "Hasil Akurasi dari Algoritma Logistic Regression  = 0.9471624266144814\n",
      "0.95 Akurasi dengan standart deviasi 0.00\n",
      "Hasil Akurasi dari Algoritma Random Forest        = 0.9461839530332681\n",
      "0.95 Akurasi dengan standart deviasi 0.00\n"
     ]
    }
   ],
   "source": [
    "#Menampilkan Hasil Akurasi Sebelum Imbalance dan Cross Validation\n",
    "\n",
    "# Hasil Dari Algoritma KNN\n",
    "print(f\"Hasil Akurasi dari Algoritma K-Nearset Neigbors   = {accuracy_score(y_test,y_knn)}\")\n",
    "print(\"%0.2f Akurasi dengan standart deviasi %0.2f\" % (skor_knn.mean(), skor_knn.std()))\n",
    "\n",
    "# Hasil Dari Algoritma NB\n",
    "print(f\"Hasil Akurasi dari Algoritma Naive Bayes          = {accuracy_score(y_test,y_nb)}\")\n",
    "print(\"%0.2f Akurasi dengan standart deviasi %0.2f\" % (skor_nb.mean(), skor_nb.std()))\n",
    "\n",
    "# Hasil Dari Algoritma DT\n",
    "print(f\"Hasil Akurasi dari Algoritma Decission Tree       = {accuracy_score(y_test,y_dt)}\")\n",
    "print(\"%0.2f Akurasi dengan standart deviasi %0.2f\" % (skor_dt.mean(), skor_dt.std()))\n",
    "\n",
    "# Hasil Dari Algoritma SVM\n",
    "print(f\"Hasil Akurasi dari Algoritma SVM                  = {accuracy_score(y_test,y_sm)}\")\n",
    "print(\"%0.2f Akurasi dengan standart deviasi %0.2f\" % (skor_sm.mean(), skor_sm.std()))\n",
    "\n",
    "# Hasil Dari Algoritma NN\n",
    "print(f\"Hasil Akurasi dari Algoritma Neural Network       = {accuracy_score(y_test,y_nn)}\")\n",
    "print(\"%0.2f Akurasi dengan standart deviasi %0.2f\" % (skor_nn.mean(), skor_nn.std()))\n",
    "\n",
    "# Hasil Dari Algoritma LR\n",
    "print(f\"Hasil Akurasi dari Algoritma Logistic Regression  = {accuracy_score(y_test,y_lr)}\")\n",
    "print(\"%0.2f Akurasi dengan standart deviasi %0.2f\" % (skor_lr.mean(), skor_lr.std()))\n",
    "\n",
    "# Hasil Dari Algoritma RF\n",
    "print(f\"Hasil Akurasi dari Algoritma Random Forest        = {accuracy_score(y_test,y_rf)}\")\n",
    "print(\"%0.2f Akurasi dengan standart deviasi %0.2f\" % (skor_rf.mean(), skor_rf.std()))"
   ]
  },
  {
   "cell_type": "code",
   "execution_count": 20,
   "id": "06e02ad1-28ff-49fb-85b6-db85f47d28f6",
   "metadata": {},
   "outputs": [],
   "source": [
    "#Penerapan Hybrid\n",
    "sampled = SMOTETomek(random_state=42)\n",
    "X_sampled, y_sampled = sampled.fit_resample(X, y)"
   ]
  },
  {
   "cell_type": "code",
   "execution_count": 21,
   "id": "f4a88b9b-d6c5-4f3a-ac44-3789328d5701",
   "metadata": {},
   "outputs": [
    {
     "name": "stderr",
     "output_type": "stream",
     "text": [
      "C:\\ProgramData\\anaconda3\\Lib\\site-packages\\seaborn\\_oldcore.py:1119: FutureWarning: use_inf_as_na option is deprecated and will be removed in a future version. Convert inf values to NaN before operating instead.\n",
      "  with pd.option_context('mode.use_inf_as_na', True):\n"
     ]
    },
    {
     "data": {
      "image/png": "[encoded data removed]",
      "text/plain": [
       "<Figure size 500x500 with 1 Axes>"
      ]
     },
     "metadata": {},
     "output_type": "display_data"
    }
   ],
   "source": [
    "#Visualisasi Imbalance Data Over\n",
    "fig = plt.subplots(figsize = (5,5))\n",
    "sns.histplot(data = y_sampled)\n",
    "plt.show()"
   ]
  },
  {
   "cell_type": "code",
   "execution_count": 22,
   "id": "76f44cf2-e6fb-43d9-b2f1-8feef81def09",
   "metadata": {},
   "outputs": [
    {
     "name": "stdout",
     "output_type": "stream",
     "text": [
      "Data Over Sampler   = ((9626, 10), (9626,))\n"
     ]
    }
   ],
   "source": [
    "#Cek bayaj data setelah Balancing\n",
    "print(f\"Data Over Sampler   = {X_sampled.shape,y_sampled.shape}\")"
   ]
  },
  {
   "cell_type": "code",
   "execution_count": 24,
   "id": "78d70642-d1b5-4692-8ce9-8179d7f3fd6b",
   "metadata": {},
   "outputs": [],
   "source": [
    "# Data Yang sudah di Hybrid dengan SMOTETomek\n",
    "X_train1, X_test1, y_train1, y_test1 = train_test_split(X_sampled, y_sampled, test_size=0.2,\n",
    "                                                       random_state= 0,\n",
    "                                                       )"
   ]
  },
  {
   "cell_type": "code",
   "execution_count": 25,
   "id": "55240f14-6f37-459a-98d7-1d2f9f3a5558",
   "metadata": {},
   "outputs": [],
   "source": [
    "# Implementasi Setiap Algoritma setelah di balance\n",
    "\n",
    "# Implementation KNN Classification Algorithms\n",
    "\n",
    "clf1 = KNeighborsClassifier(n_neighbors=5)\n",
    "y_knn1 = clf1.fit(X_train1, y_train1).predict(X_test1)  # Implementasi Algoritma dan SMOTETomek\n",
    "\n",
    "# Implementation Naive Bayes Classification Algorithms\n",
    "nb1 = GaussianNB()\n",
    "y_nb1 = nb1.fit(X_train1, y_train1).predict(X_test1)    # Implementasi Algoritma dan SMOTETomek\n",
    "\n",
    "# Implementation Decission Tree Classification Algorithms\n",
    "dt1 = DecisionTreeClassifier()\n",
    "y_dt1 = dt1.fit(X_train1, y_train1).predict(X_test1)    # Implementasi Algoritma dan SMOTETomek\n",
    "\n",
    "# Implementation SVM (Suppory Vector Machine) Classification Algorithms\n",
    "sm1 =  SVC()\n",
    "y_sm1 = sm1.fit(X_train1, y_train1).predict(X_test1)   # Implementasi Algoritma dan SMOTETomek\n",
    "\n",
    "# Implementation Neural Network Classification Algorithms\n",
    "nn1 = MLPClassifier()\n",
    "y_nn1 = nn1.fit(X_train1, y_train1).predict(X_test1)  # Implementasi Algoritma dan SMOTETomek\n",
    "\n"
   ]
  },
  {
   "cell_type": "code",
   "execution_count": null,
   "id": "345b50b8-c691-4ead-8218-fcf35f51a8c0",
   "metadata": {},
   "outputs": [],
   "source": []
  }
 ],
 "metadata": {
  "kernelspec": {
   "display_name": "Python 3 (ipykernel)",
   "language": "python",
   "name": "python3"
  },
  "language_info": {
   "codemirror_mode": {
    "name": "ipython",
    "version": 3
   },
   "file_extension": ".py",
   "mimetype": "text/x-python",
   "name": "python",
   "nbconvert_exporter": "python",
   "pygments_lexer": "ipython3",
   "version": "3.12.4"
  }
 },
 "nbformat": 4,
 "nbformat_minor": 5
}
