{
 "cells": [
  {
   "cell_type": "code",
   "execution_count": 2,
   "id": "e1baa310-cd42-4151-b220-da90fdf0b7da",
   "metadata": {},
   "outputs": [],
   "source": [
    "#import All Lib\n",
    "import pandas as pd\n",
    "import numpy as np\n",
    "import seaborn as sns\n",
    "import matplotlib.pyplot as plt\n",
    "\n",
    "#Import All Module Needs\n",
    "from sklearn.pipeline import Pipeline                                 #\n",
    "from sklearn.preprocessing import LabelEncoder,StandardScaler         # Digunakan untuk Data Transformation\n",
    "from sklearn.ensemble import RandomForestClassifier                   # Standart Algoritma Random Forest\n",
    "from sklearn.ensemble import AdaBoostClassifier                       # Algoritma Random Forest with AdaBoostClassifier\n",
    "from sklearn.feature_selection import SelectKBest,f_classif           # Algortima Random Forest with Feature Selection\n",
    "from sklearn.model_selection import StratifiedKFold                   # Algoritma Random Forest Stratified Sampling\n",
    "from sklearn.metrics import accuracy_score, classification_report     # Impor Function akurasi dan classification reportnya\n",
    "from sklearn.model_selection import train_test_split, cross_val_score # Function Caross Validation dan Split Data\n",
    "from imblearn.combine import SMOTETomek                               # Balancing Data Metod Hybird"
   ]
  },
  {
   "cell_type": "code",
   "execution_count": 3,
   "id": "d138780a-2ef4-47d6-af73-1b89fe6005f8",
   "metadata": {},
   "outputs": [
    {
     "data": {
      "text/html": [
       "<div>\n",
       "<style scoped>\n",
       "    .dataframe tbody tr th:only-of-type {\n",
       "        vertical-align: middle;\n",
       "    }\n",
       "\n",
       "    .dataframe tbody tr th {\n",
       "        vertical-align: top;\n",
       "    }\n",
       "\n",
       "    .dataframe thead th {\n",
       "        text-align: right;\n",
       "    }\n",
       "</style>\n",
       "<table border=\"1\" class=\"dataframe\">\n",
       "  <thead>\n",
       "    <tr style=\"text-align: right;\">\n",
       "      <th></th>\n",
       "      <th>id</th>\n",
       "      <th>gender</th>\n",
       "      <th>age</th>\n",
       "      <th>hypertension</th>\n",
       "      <th>heart_disease</th>\n",
       "      <th>ever_married</th>\n",
       "      <th>work_type</th>\n",
       "      <th>Residence_type</th>\n",
       "      <th>avg_glucose_level</th>\n",
       "      <th>bmi</th>\n",
       "      <th>smoking_status</th>\n",
       "      <th>stroke</th>\n",
       "    </tr>\n",
       "  </thead>\n",
       "  <tbody>\n",
       "    <tr>\n",
       "      <th>0</th>\n",
       "      <td>9046</td>\n",
       "      <td>Male</td>\n",
       "      <td>67.0</td>\n",
       "      <td>0</td>\n",
       "      <td>1</td>\n",
       "      <td>Yes</td>\n",
       "      <td>Private</td>\n",
       "      <td>Urban</td>\n",
       "      <td>228.69</td>\n",
       "      <td>36.6</td>\n",
       "      <td>formerly smoked</td>\n",
       "      <td>1</td>\n",
       "    </tr>\n",
       "    <tr>\n",
       "      <th>1</th>\n",
       "      <td>51676</td>\n",
       "      <td>Female</td>\n",
       "      <td>61.0</td>\n",
       "      <td>0</td>\n",
       "      <td>0</td>\n",
       "      <td>Yes</td>\n",
       "      <td>Self-employed</td>\n",
       "      <td>Rural</td>\n",
       "      <td>202.21</td>\n",
       "      <td>NaN</td>\n",
       "      <td>never smoked</td>\n",
       "      <td>1</td>\n",
       "    </tr>\n",
       "    <tr>\n",
       "      <th>2</th>\n",
       "      <td>31112</td>\n",
       "      <td>Male</td>\n",
       "      <td>80.0</td>\n",
       "      <td>0</td>\n",
       "      <td>1</td>\n",
       "      <td>Yes</td>\n",
       "      <td>Private</td>\n",
       "      <td>Rural</td>\n",
       "      <td>105.92</td>\n",
       "      <td>32.5</td>\n",
       "      <td>never smoked</td>\n",
       "      <td>1</td>\n",
       "    </tr>\n",
       "    <tr>\n",
       "      <th>3</th>\n",
       "      <td>60182</td>\n",
       "      <td>Female</td>\n",
       "      <td>49.0</td>\n",
       "      <td>0</td>\n",
       "      <td>0</td>\n",
       "      <td>Yes</td>\n",
       "      <td>Private</td>\n",
       "      <td>Urban</td>\n",
       "      <td>171.23</td>\n",
       "      <td>34.4</td>\n",
       "      <td>smokes</td>\n",
       "      <td>1</td>\n",
       "    </tr>\n",
       "    <tr>\n",
       "      <th>4</th>\n",
       "      <td>1665</td>\n",
       "      <td>Female</td>\n",
       "      <td>79.0</td>\n",
       "      <td>1</td>\n",
       "      <td>0</td>\n",
       "      <td>Yes</td>\n",
       "      <td>Self-employed</td>\n",
       "      <td>Rural</td>\n",
       "      <td>174.12</td>\n",
       "      <td>24.0</td>\n",
       "      <td>never smoked</td>\n",
       "      <td>1</td>\n",
       "    </tr>\n",
       "  </tbody>\n",
       "</table>\n",
       "</div>"
      ],
      "text/plain": [
       "      id  gender   age  hypertension  heart_disease ever_married  \\\n",
       "0   9046    Male  67.0             0              1          Yes   \n",
       "1  51676  Female  61.0             0              0          Yes   \n",
       "2  31112    Male  80.0             0              1          Yes   \n",
       "3  60182  Female  49.0             0              0          Yes   \n",
       "4   1665  Female  79.0             1              0          Yes   \n",
       "\n",
       "       work_type Residence_type  avg_glucose_level   bmi   smoking_status  \\\n",
       "0        Private          Urban             228.69  36.6  formerly smoked   \n",
       "1  Self-employed          Rural             202.21   NaN     never smoked   \n",
       "2        Private          Rural             105.92  32.5     never smoked   \n",
       "3        Private          Urban             171.23  34.4           smokes   \n",
       "4  Self-employed          Rural             174.12  24.0     never smoked   \n",
       "\n",
       "   stroke  \n",
       "0       1  \n",
       "1       1  \n",
       "2       1  \n",
       "3       1  \n",
       "4       1  "
      ]
     },
     "execution_count": 3,
     "metadata": {},
     "output_type": "execute_result"
    }
   ],
   "source": [
    "# Load data Stroke CSV\n",
    "file = ('dataset/stroke_dataset.csv')\n",
    "data = pd.read_csv(file)\n",
    "data.head()"
   ]
  },
  {
   "cell_type": "code",
   "execution_count": 4,
   "id": "72f0595a-b63e-4454-80ff-5f69f03aebc4",
   "metadata": {},
   "outputs": [],
   "source": [
    "#Merubah Data kedalam bentuk Frame\n",
    "df = pd.DataFrame(data)"
   ]
  },
  {
   "cell_type": "code",
   "execution_count": 5,
   "id": "e65bf743-960e-40fd-8b84-dcfa239088ba",
   "metadata": {},
   "outputs": [
    {
     "data": {
      "text/plain": [
       "0"
      ]
     },
     "execution_count": 5,
     "metadata": {},
     "output_type": "execute_result"
    }
   ],
   "source": [
    "#Cek Duplikasi dan Cara handelnya jika terdapat duplikasi\n",
    "df.duplicated().sum()"
   ]
  },
  {
   "cell_type": "code",
   "execution_count": 6,
   "id": "6440e459-3deb-4721-9c31-1b616d62cb7f",
   "metadata": {},
   "outputs": [
    {
     "data": {
      "text/plain": [
       "id                     0\n",
       "gender                 0\n",
       "age                    0\n",
       "hypertension           0\n",
       "heart_disease          0\n",
       "ever_married           0\n",
       "work_type              0\n",
       "Residence_type         0\n",
       "avg_glucose_level      0\n",
       "bmi                  201\n",
       "smoking_status         0\n",
       "stroke                 0\n",
       "dtype: int64"
      ]
     },
     "execution_count": 6,
     "metadata": {},
     "output_type": "execute_result"
    }
   ],
   "source": [
    "#Cek Mising Value dan Penanganannya\n",
    "df.isna().sum()"
   ]
  },
  {
   "cell_type": "code",
   "execution_count": 7,
   "id": "424a745e-cffa-45f2-b99d-98293c3fc855",
   "metadata": {},
   "outputs": [
    {
     "data": {
      "text/plain": [
       "id                   0\n",
       "gender               0\n",
       "age                  0\n",
       "hypertension         0\n",
       "heart_disease        0\n",
       "ever_married         0\n",
       "work_type            0\n",
       "Residence_type       0\n",
       "avg_glucose_level    0\n",
       "bmi                  0\n",
       "smoking_status       0\n",
       "stroke               0\n",
       "dtype: int64"
      ]
     },
     "execution_count": 7,
     "metadata": {},
     "output_type": "execute_result"
    }
   ],
   "source": [
    "#Tercatat Ada 201 mising value pada kolom BMI, Maka kita akan isi dengan Rata - rata\n",
    "avg = df['bmi'].mean()\n",
    "df['bmi'] = df['bmi'].fillna(avg)\n",
    "df.isna().sum()"
   ]
  },
  {
   "cell_type": "code",
   "execution_count": 8,
   "id": "6f925c97-7598-4ced-abda-38d8fc51c9e8",
   "metadata": {},
   "outputs": [
    {
     "data": {
      "text/plain": [
       "(5110, 11)"
      ]
     },
     "execution_count": 8,
     "metadata": {},
     "output_type": "execute_result"
    }
   ],
   "source": [
    "#Mising value sudah Selesai, Lanjut untuk menghapus kolom \"ID\"\n",
    "df = df.drop(['id'], axis=1)\n",
    "df.shape"
   ]
  },
  {
   "cell_type": "code",
   "execution_count": 9,
   "id": "7cafdb0d-6629-41e9-95e3-cd9ce70ec357",
   "metadata": {},
   "outputs": [
    {
     "data": {
      "image/png": "[encoded data removed]",
      "text/plain": [
       "<Figure size 1500x800 with 4 Axes>"
      ]
     },
     "metadata": {},
     "output_type": "display_data"
    }
   ],
   "source": [
    "#Visuali Data sebelumm Imbalance\n",
    "fig, axes = plt.subplots(2,2,figsize=(15,8))\n",
    "\n",
    "sns.histplot(data = df, x='stroke', ax = axes[0,0], color = 'red') # Menampilkan Data Orang yang Terkena Stroke\n",
    "plt.show()"
   ]
  },
  {
   "cell_type": "code",
   "execution_count": 10,
   "id": "4d0c2864-f66e-4e2c-be98-26800836062b",
   "metadata": {},
   "outputs": [
    {
     "name": "stdout",
     "output_type": "stream",
     "text": [
      "   gender   age  hypertension  heart_disease  ever_married  work_type  \\\n",
      "0       1  67.0             0              1             1          2   \n",
      "1       0  61.0             0              0             1          3   \n",
      "2       1  80.0             0              1             1          2   \n",
      "3       0  49.0             0              0             1          2   \n",
      "4       0  79.0             1              0             1          3   \n",
      "\n",
      "   Residence_type  avg_glucose_level        bmi  smoking_status  stroke  \n",
      "0               1             228.69  36.600000               1       1  \n",
      "1               0             202.21  28.893237               2       1  \n",
      "2               0             105.92  32.500000               2       1  \n",
      "3               1             171.23  34.400000               3       1  \n",
      "4               0             174.12  24.000000               2       1  \n"
     ]
    }
   ],
   "source": [
    "#Transformasi Data dari nominal ke numerik\n",
    "encode = LabelEncoder()\n",
    "\n",
    "df['gender'] = encode.fit_transform(df['gender'].values)\n",
    "df['ever_married'] = encode.fit_transform(df['ever_married'].values)\n",
    "df['work_type'] = encode.fit_transform(df['work_type'].values)\n",
    "df['Residence_type'] = encode.fit_transform(df['Residence_type'].values)\n",
    "df['smoking_status'] = encode.fit_transform(df['smoking_status'].values)\n",
    "print(df.head())"
   ]
  },
  {
   "cell_type": "code",
   "execution_count": 11,
   "id": "226e89c8-7b23-4c13-afe4-ae5952183195",
   "metadata": {},
   "outputs": [],
   "source": [
    "#Identifikasi Variabel bebas dan Terikat\n",
    "X = df.drop(['stroke'], axis=1)\n",
    "y = df['stroke']\n",
    "\n",
    "#Penerpana Balancing Data\n",
    "\n",
    "sampled = SMOTETomek(random_state=42)\n",
    "X_sampled, y_sampled = sampled.fit_resample(X, y)"
   ]
  },
  {
   "cell_type": "code",
   "execution_count": 12,
   "id": "b7082c27-2238-4a0b-929c-cfbc00e7a6b0",
   "metadata": {},
   "outputs": [
    {
     "data": {
      "image/png": "[encoded data removed]",
      "text/plain": [
       "<Figure size 500x500 with 1 Axes>"
      ]
     },
     "metadata": {},
     "output_type": "display_data"
    }
   ],
   "source": [
    "# Menampil Keseimbanagan Data bagian Variabel Terikat (y)\n",
    "\n",
    "fig = plt.subplots(figsize = (5,5))\n",
    "sns.histplot(data = y_sampled)\n",
    "plt.show()"
   ]
  },
  {
   "cell_type": "code",
   "execution_count": 13,
   "id": "f0f2a059-dae7-4187-8490-a8762ee531f3",
   "metadata": {},
   "outputs": [
    {
     "name": "stdout",
     "output_type": "stream",
     "text": [
      "Total Data Setelah Balancing Data   = ((9626, 10), (9626,))\n"
     ]
    }
   ],
   "source": [
    "#Cek bayak data setelah Balancing\n",
    "print(f\"Total Data Setelah Balancing Data   = {X_sampled.shape,y_sampled.shape}\")"
   ]
  },
  {
   "cell_type": "code",
   "execution_count": 14,
   "id": "2f76c4ee-b402-4cad-8e0d-ebc29168ad70",
   "metadata": {},
   "outputs": [],
   "source": [
    "#Proses Split Data\n",
    "X_train, X_test, y_train, y_test = train_test_split(X_sampled, y_sampled, test_size= 0.2,\n",
    "                                                    random_state=42,\n",
    "                                                    shuffle=True\n",
    "                                                   )"
   ]
  },
  {
   "cell_type": "code",
   "execution_count": 15,
   "id": "363b225e-6845-4b18-bb68-bf1f711943e4",
   "metadata": {},
   "outputs": [
    {
     "name": "stdout",
     "output_type": "stream",
     "text": [
      "Hasil Akurasi dari Weighted Random Forest adalah = 0.9543094496365524 dengan Standar Deviasinya 0.00 dan mean 0.94\n",
      "\n",
      "\n",
      "Hasil Akurasi dari Random Forest with Feature Selection adalah = 0.9236760124610592 dengan Standar Deviasinya 0.00 dan mean 0.92\n"
     ]
    }
   ],
   "source": [
    "# Proses Penerapan Algoritma Random Forest\n",
    "\n",
    "# Weighted Random Forest atau rfw\n",
    "rfw      = RandomForestClassifier(n_estimators=100, random_state=42, class_weight='balanced')\n",
    "y_rfw    = rfw.fit(X_train, y_train).predict(X_test)\n",
    "skor_rfw = cross_val_score(rfw, X_train, y_train, cv=5)\n",
    "print(f\"Hasil Akurasi dari Weighted Random Forest adalah              = {accuracy_score(y_test, y_rfw)} dengan Standar Deviasinya {skor_rfw.std():0.2f} dan mean {skor_rfw.mean():0.2f}\")\n",
    "\n",
    "# Random Forest with Feature Selection atau rfwfs\n",
    "rfwfs = Pipeline([\n",
    "    ('feature_selection', SelectKBest(f_classif, k=5)),   # Memilih top 5 features\n",
    "    ('rf', RandomForestClassifier(n_estimators=100, random_state=42))\n",
    "])\n",
    "y_rfwfs = rfwfs.fit(X_train, y_train).predict(X_test)\n",
    "skor_rfwfs = cross_val_score(rfwfs, X_train, y_train, cv=5)\n",
    "print(f\"Hasil Akurasi dari Random Forest with Feature Selection adalah = {accuracy_score(y_test, y_rfwfs)} dengan Standar Deviasinya {skor_rfwfs.std():0.2f} dan mean {skor_rfwfs.mean():0.2f}\")"
   ]
  },
  {
   "cell_type": "code",
   "execution_count": 21,
   "id": "90c62e7a-b9fc-401e-9035-4a93e20aac29",
   "metadata": {},
   "outputs": [
    {
     "name": "stdout",
     "output_type": "stream",
     "text": [
      "Hasil Akurasi dari Random Forest with Stratified Sampling adalah = 0.952232606438214 dengan Standar Deviasinya 0.00 dan mean 0.94\n"
     ]
    },
    {
     "name": "stderr",
     "output_type": "stream",
     "text": [
      "C:\\ProgramData\\anaconda3\\Lib\\site-packages\\sklearn\\ensemble\\_weight_boosting.py:519: FutureWarning: The SAMME.R algorithm (the default) is deprecated and will be removed in 1.6. Use the SAMME algorithm to circumvent this warning.\n",
      "  warnings.warn(\n",
      "C:\\ProgramData\\anaconda3\\Lib\\site-packages\\sklearn\\ensemble\\_weight_boosting.py:519: FutureWarning: The SAMME.R algorithm (the default) is deprecated and will be removed in 1.6. Use the SAMME algorithm to circumvent this warning.\n",
      "  warnings.warn(\n",
      "C:\\ProgramData\\anaconda3\\Lib\\site-packages\\sklearn\\ensemble\\_weight_boosting.py:519: FutureWarning: The SAMME.R algorithm (the default) is deprecated and will be removed in 1.6. Use the SAMME algorithm to circumvent this warning.\n",
      "  warnings.warn(\n",
      "C:\\ProgramData\\anaconda3\\Lib\\site-packages\\sklearn\\ensemble\\_weight_boosting.py:519: FutureWarning: The SAMME.R algorithm (the default) is deprecated and will be removed in 1.6. Use the SAMME algorithm to circumvent this warning.\n",
      "  warnings.warn(\n",
      "C:\\ProgramData\\anaconda3\\Lib\\site-packages\\sklearn\\ensemble\\_weight_boosting.py:519: FutureWarning: The SAMME.R algorithm (the default) is deprecated and will be removed in 1.6. Use the SAMME algorithm to circumvent this warning.\n",
      "  warnings.warn(\n",
      "C:\\ProgramData\\anaconda3\\Lib\\site-packages\\sklearn\\ensemble\\_weight_boosting.py:519: FutureWarning: The SAMME.R algorithm (the default) is deprecated and will be removed in 1.6. Use the SAMME algorithm to circumvent this warning.\n",
      "  warnings.warn(\n"
     ]
    },
    {
     "name": "stdout",
     "output_type": "stream",
     "text": [
      "Hasil Akurasi dari Random Forest with Ada Boost adalah            = 0.9553478712357217 dengan Standar Deviasinya 0.00 dan mean 0.94\n",
      "Hasil Akurasi dari Random Forest with Parallelization adalah      = 0.952232606438214 dengan Standar Deviasinya 0.0 dan mean 0.9\n",
      "\n",
      "\n"
     ]
    }
   ],
   "source": [
    "\n",
    "# Random Forest With Stratified Sampling atau rfwss\n",
    "rfwss            = StratifiedKFold(n_splits=5, shuffle=True, random_state=42)\n",
    "stratified_rfwss = RandomForestClassifier(n_estimators=100, random_state=42)\n",
    "y_rfwss          = stratified_rfwss.fit(X_train, y_train).predict(X_test)\n",
    "skor_rfwss       = cross_val_score(stratified_rfwss, X_train, y_train, cv=rfwss)\n",
    "print(f\"Hasil Akurasi dari Random Forest with Stratified Sampling adalah = {accuracy_score(y_test, y_rfwss)} dengan Standar Deviasinya {skor_rfwss.std():0.2f} dan mean {skor_rfwss.mean():0.2f}\")\n",
    "\n",
    "# Random Forest With Ada BoostUsing RandomForest as base estimator in AdaBoost\n",
    "rfwb      = AdaBoostClassifier(\n",
    "            estimator=RandomForestClassifier(n_estimators=50, random_state=42),\n",
    "            n_estimators=100, random_state=42)\n",
    "y_rfwb    = rfwb.fit(X_train, y_train).predict(X_test)\n",
    "skor_rfwb = cross_val_score(rfwb, X_train, y_train, cv=5)\n",
    "print(f\"Hasil Akurasi dari Random Forest with Ada Boost adalah            = {accuracy_score(y_test, y_rfwb)} dengan Standar Deviasinya {skor_rfwss.std():0.2f} dan mean {skor_rfwb.mean():0.2f}\")\n",
    "\n",
    "# Random Forest with Parallelization atau rfwp\n",
    "rfwp      = RandomForestClassifier(n_estimators=100, n_jobs=-1, random_state=42)\n",
    "y_rfwp    = rfwp.fit(X_train, y_train).predict(X_test)\n",
    "skor_rfwp = cross_val_score(rfwp, X_train, y_train, cv=5)\n",
    "print(f\"Hasil Akurasi dari Random Forest with Parallelization adalah      = {accuracy_score(y_test, y_rfwp)} dengan Standar Deviasinya {skor_rfwp.std():0.1f} dan mean {skor_rfwp.mean():0.1f}\")\n",
    "print(\"\\n\")"
   ]
  }
 ],
 "metadata": {
  "kernelspec": {
   "display_name": "Python 3 (ipykernel)",
   "language": "python",
   "name": "python3"
  },
  "language_info": {
   "codemirror_mode": {
    "name": "ipython",
    "version": 3
   },
   "file_extension": ".py",
   "mimetype": "text/x-python",
   "name": "python",
   "nbconvert_exporter": "python",
   "pygments_lexer": "ipython3",
   "version": "3.12.4"
  }
 },
 "nbformat": 4,
 "nbformat_minor": 5
}
